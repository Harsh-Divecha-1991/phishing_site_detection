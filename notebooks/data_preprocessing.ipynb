{
 "cells": [
  {
   "cell_type": "code",
   "execution_count": 1,
   "metadata": {},
   "outputs": [],
   "source": [
    "# Reading an .arff (Attribute-Relation File Format) file using pandas "
   ]
  },
  {
   "cell_type": "code",
   "execution_count": null,
   "metadata": {},
   "outputs": [],
   "source": [
    "import pandas as pd\n",
    "import arff\n",
    "\n",
    "def read_arff(file_path):\n",
    "    # Load the ARFF file\n",
    "    with open(file_path, 'r') as f:\n",
    "        arff_data = arff.load(f)\n",
    "    \n",
    "    # Extract attribute names and data\n",
    "    attributes = [attr[0] for attr in arff_data['attributes']]\n",
    "    data = arff_data['data']\n",
    "    \n",
    "    # Create a pandas DataFrame\n",
    "    df = pd.DataFrame(data, columns=attributes)\n",
    "    \n",
    "    # Convert data types\n",
    "    for attr, dtype in arff_data['attributes']:\n",
    "        if dtype == 'NUMERIC':\n",
    "            df[attr] = pd.to_numeric(df[attr], errors='coerce')\n",
    "        elif dtype == 'STRING':\n",
    "            df[attr] = df[attr].astype(str)\n",
    "        # Add more type conversions as needed\n",
    "    \n",
    "    return df\n",
    "\n",
    "# Usage\n",
    "file_path = '..\\data\\raw\\Training Dataset.arff'\n",
    "df = read_arff(file_path)\n",
    "\n",
    "# Display the first few rows\n",
    "display(df.head())\n",
    "\n",
    "# Display information about the DataFrame\n",
    "display(df.info())\n",
    "\n",
    "# Save csv\n",
    "df.to_csv('..\\data\\processed\\phishing.csv', index=False)"
   ]
  },
  {
   "cell_type": "code",
   "execution_count": null,
   "metadata": {},
   "outputs": [],
   "source": [
    "# To get samples\n",
    "df = pd.read_csv('..\\data\\processed\\phishing.csv')\n",
    "input_df_copy = df.copy().drop('Result', axis = 1)\n",
    "input_df = input_df_copy.sample(n=20)\n",
    "input_df = input_df.reset_index(drop=True)\n",
    "input_df.to_csv('..\\data\\processed\\sample6.csv', index = False)"
   ]
  }
 ],
 "metadata": {
  "kernelspec": {
   "display_name": "Python 3",
   "language": "python",
   "name": "python3"
  },
  "language_info": {
   "codemirror_mode": {
    "name": "ipython",
    "version": 3
   },
   "file_extension": ".py",
   "mimetype": "text/x-python",
   "name": "python",
   "nbconvert_exporter": "python",
   "pygments_lexer": "ipython3",
   "version": "3.10.11"
  }
 },
 "nbformat": 4,
 "nbformat_minor": 2
}
